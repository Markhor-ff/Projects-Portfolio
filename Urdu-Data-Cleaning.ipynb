{
 "cells": [
  {
   "cell_type": "code",
   "execution_count": null,
   "metadata": {
    "colab": {
     "base_uri": "https://localhost:8080/"
    },
    "executionInfo": {
     "elapsed": 419,
     "status": "ok",
     "timestamp": 1731222546942,
     "user": {
      "displayName": "Mr. M",
      "userId": "18302114794734885780"
     },
     "user_tz": -300
    },
    "id": "9P3NbzxX5np9",
    "outputId": "e22e134f-19da-471d-ec05-e5e322296354"
   },
   "outputs": [],
   "source": [
    "import pandas as pd\n",
    "\n",
    "# Load the CSV file from /content\n",
    "\n",
    "file_path = '/content/Text-dataset.csv'\n",
    "\n",
    "# Attempt to load with ISO-8859-1 encoding and convert to UTF-8\n",
    "data = pd.read_csv(file_path, encoding='ISO-8859-1')\n",
    "\n",
    "# Save the data as a UTF-8 encoded CSV\n",
    "utf8_file_path = '/content/utf8_encoded_file.csv'\n",
    "data.to_csv(utf8_file_path, index=False, encoding='utf-8')\n",
    "\n",
    "print(f\"File saved with UTF-8 encoding at: {utf8_file_path}\")"
   ]
  },
  {
   "cell_type": "code",
   "execution_count": null,
   "metadata": {
    "colab": {
     "base_uri": "https://localhost:8080/",
     "height": 310
    },
    "executionInfo": {
     "elapsed": 430,
     "status": "ok",
     "timestamp": 1731222636618,
     "user": {
      "displayName": "Mr. M",
      "userId": "18302114794734885780"
     },
     "user_tz": -300
    },
    "id": "EUYLb3xs6CL2",
    "outputId": "c37fd19d-5476-4ada-c431-81b7c7731a3a"
   },
   "outputs": [],
   "source": [
    "df = pd.read_csv(file_path , encoding='ISO-8859-1')\n",
    "df.head()"
   ]
  },
  {
   "cell_type": "code",
   "execution_count": null,
   "metadata": {
    "colab": {
     "base_uri": "https://localhost:8080/",
     "height": 310
    },
    "executionInfo": {
     "elapsed": 452,
     "status": "ok",
     "timestamp": 1731222567648,
     "user": {
      "displayName": "Mr. M",
      "userId": "18302114794734885780"
     },
     "user_tz": -300
    },
    "id": "qnLC1-BF57xy",
    "outputId": "4fa2d5e2-df0a-45e7-ee6c-e6b3bbf99c39"
   },
   "outputs": [],
   "source": [
    "df = pd.read_csv(utf8_file_path)\n",
    "df.head()"
   ]
  },
  {
   "cell_type": "code",
   "execution_count": null,
   "metadata": {
    "id": "_zqm4_bL406n"
   },
   "outputs": [],
   "source": [
    "import pandas as pd\n",
    "import re\n",
    "from google.colab import files\n",
    "\n",
    "uploaded = files.upload()\n",
    "\n",
    "# Load the dataset with utf-8 encoding and fallback to ISO-8859-1 if necessary\n",
    "file_name = list(uploaded.keys())[0]\n",
    "try:\n",
    "    data = pd.read_csv(file_name, encoding='utf-8')\n",
    "except UnicodeDecodeError:\n",
    "    data = pd.read_csv(file_name, encoding='ISO-8859-1')\n",
    "\n",
    "# Function to remove English characters, numbers, and special characters, while preserving Urdu text\n",
    "def clean_urdu_text(text):\n",
    "    # Keep only Urdu script, remove English letters, numbers, and common special characters\n",
    "    cleaned_text = re.sub(r'[A-Za-z0-9!\"#$%&\\'()*+,-./:;<=>?@[\\\\]^_`{|}~]', '', str(text))\n",
    "    return cleaned_text\n",
    "\n",
    "# Apply the cleaning function to the 'Text' column\n",
    "data['Text'] = data['Text'].apply(clean_urdu_text)\n",
    "\n",
    "# Create the 'tag' column: 1 for offensive, 0 for inoffensive/neutral/positive\n",
    "data['tag'] = data['TagText'].apply(lambda x: 1 if 'Offensive' in x else 0)\n",
    "\n",
    "# Keep only the required columns\n",
    "output_data = data[['Text', 'TagText', 'tag']]\n",
    "\n",
    "# Save the cleaned data to an xlsx file\n",
    "output_file_path = 'Cleaned_Dataset.xlsx'\n",
    "# Remove the encoding argument as it's not supported by to_excel for xlsx files\n",
    "output_data.to_excel(output_file_path, index=False)\n",
    "# If you need to specify the encoding, you can use the 'engine' argument with 'openpyxl'\n",
    "# and handle the encoding separately when opening the file for writing.\n",
    "# However, this is usually not necessary as openpyxl handles UTF-8 by default."
   ]
  },
  {
   "cell_type": "code",
   "execution_count": null,
   "metadata": {
    "colab": {
     "base_uri": "https://localhost:8080/",
     "height": 206
    },
    "executionInfo": {
     "elapsed": 796,
     "status": "ok",
     "timestamp": 1731222281402,
     "user": {
      "displayName": "Mr. M",
      "userId": "18302114794734885780"
     },
     "user_tz": -300
    },
    "id": "8Bi5P2pK4FkD",
    "outputId": "8093eda7-8356-4496-ac1e-a26e22862de2"
   },
   "outputs": [],
   "source": [
    "df = pd.read_excel(output_file_path)\n",
    "df.head()"
   ]
  },
  {
   "cell_type": "code",
   "execution_count": null,
   "metadata": {
    "id": "RRjyjNt635a4"
   },
   "outputs": [],
   "source": [
    "# Download the xlsx file to your local machine\n",
    "from google.colab import files\n",
    "files.download(output_file_path)\n"
   ]
  }
 ],
 "metadata": {
  "colab": {
   "authorship_tag": "ABX9TyM3Ts4O6a2lrSwV3emOwMR8",
   "provenance": []
  },
  "kernelspec": {
   "display_name": "Python 3",
   "name": "python3"
  },
  "language_info": {
   "name": "python"
  }
 },
 "nbformat": 4,
 "nbformat_minor": 0
}

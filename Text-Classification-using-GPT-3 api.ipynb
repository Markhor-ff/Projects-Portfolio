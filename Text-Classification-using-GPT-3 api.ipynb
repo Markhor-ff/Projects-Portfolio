{
 "cells": [
  {
   "cell_type": "code",
   "execution_count": null,
   "metadata": {
    "colab": {
     "base_uri": "https://localhost:8080/"
    },
    "executionInfo": {
     "elapsed": 15347,
     "status": "ok",
     "timestamp": 1721629195060,
     "user": {
      "displayName": "Mr. M",
      "userId": "18302114794734885780"
     },
     "user_tz": -300
    },
    "id": "VMjz70p5JsdN",
    "outputId": "c528333f-2ae4-45d5-de69-579583820e47"
   },
   "outputs": [],
   "source": [
    "!pip install -q openai"
   ]
  },
  {
   "cell_type": "code",
   "execution_count": null,
   "metadata": {
    "colab": {
     "base_uri": "https://localhost:8080/",
     "height": 481
    },
    "executionInfo": {
     "elapsed": 5947,
     "status": "error",
     "timestamp": 1721629210540,
     "user": {
      "displayName": "Mr. M",
      "userId": "18302114794734885780"
     },
     "user_tz": -300
    },
    "id": "tUMJ-aZ4dTDs",
    "outputId": "ede4c992-0d73-4ec5-9964-e0abc040c871"
   },
   "outputs": [],
   "source": [
    "from openai import OpenAI\n",
    "\n",
    "# Set your OpenAI API key\n",
    "api_key = 'sk-proj- USE YOUR OWN API KEY'\n",
    "client = OpenAI(api_key=api_key)\n",
    "\n",
    "# Function to classify a Text using GPT-3.5 or GPT-4\n",
    "def classify_Text(Text):\n",
    "    # Construct the prompt\n",
    "    prompt = f\"Classify the following Urdu Text as hate speech or not hate speech:\\n\\nText: \\\"{Text}\\\"\\nClassification:\"\n",
    "\n",
    "    # Make a request to the GPT-3.5 or GPT-4 API\n",
    "    completion = client.chat.completions.create(\n",
    "        model=\"gpt-3.5-turbo\",\n",
    "        messages=[\n",
    "            {\"role\": \"user\", \"content\": prompt}\n",
    "        ]\n",
    "    )\n",
    "\n",
    "    # Extract and return the classification result\n",
    "    # Updated to access the content from the 'content' attribute of the message object\n",
    "    classification = completion.choices[0].message.content.strip()\n",
    "    return classification\n",
    "\n",
    "# Function to prompt the user for input and classify the Text\n",
    "def prompt_user_for_Text():\n",
    "    Text = input(\"Please enter an Urdu Text for classification: \")\n",
    "    classification = classify_Text(Text)\n",
    "    print(f\"Text: {Text}\\nClassification: {classification}\\n\")\n",
    "\n",
    "# Example usage of predefined Texts\n",
    "def classify_predefined_Texts():\n",
    "    Texts = [\n",
    "        \"گانڈو ہم پھاڑتے ہیں ہماری کون پھاڑے گا تم لوگوں کی گانڈ میں اتنا دم نہیں زہنی مریض غلام نواز کے چوتڑ چاٹ یہاں کیا بک بک کرنے آگیا ہے\",\n",
    "        \"آج کا موسم بہت اچھا ہے\",\n",
    "        \"کسی کے خلاف تشدد کی بات کرنا غلط ہے\",\n",
    "        \"مجھے نئی فلم بہت پسند آئی\"\n",
    "    ]\n",
    "\n",
    "    for Text in Texts:\n",
    "        result = classify_Text(Text)\n",
    "        print(f\"Text: {Text}\\nClassification: {result}\\n\")\n",
    "\n",
    "if __name__ == \"__main__\":\n",
    "    while True:\n",
    "        print(\"1. Classify a user-provided Text\")\n",
    "        print(\"2. Classify predefined example Texts\")\n",
    "        print(\"3. Exit\")\n",
    "        choice = input(\"Please enter your choice (1/2/3): \") # Take user input for choice\n",
    "\n",
    "        if choice == \"1\":\n",
    "            prompt_user_for_Text()\n",
    "        elif choice == \"2\":\n",
    "            classify_predefined_Texts()\n",
    "        elif choice == \"3\":\n",
    "            print(\"Exiting...\")\n",
    "            break\n",
    "        else:\n",
    "            print(\"Invalid choice, please try again.\")"
   ]
  },
  {
   "cell_type": "code",
   "execution_count": null,
   "metadata": {
    "id": "7_RsWuZpLMWo"
   },
   "outputs": [],
   "source": []
  }
 ],
 "metadata": {
  "colab": {
   "authorship_tag": "ABX9TyM9Mdd/LQu9HFQCDa/iSlr4",
   "provenance": []
  },
  "kernelspec": {
   "display_name": "Python 3",
   "name": "python3"
  },
  "language_info": {
   "name": "python"
  }
 },
 "nbformat": 4,
 "nbformat_minor": 0
}

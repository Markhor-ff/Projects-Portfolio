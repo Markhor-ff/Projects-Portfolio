{
 "cells": [
  {
   "cell_type": "code",
   "execution_count": null,
   "metadata": {},
   "outputs": [],
   "source": [
    "import pandas as pd\n",
    "from sklearn.model_selection import train_test_split\n",
    "from imblearn.over_sampling import SMOTE\n",
    "from sklearn.feature_extraction.text import TfidfVectorizer\n",
    "import re\n",
    "\n",
    "# Load the dataset\n",
    "file_path = '/content/Texts_file.xlsx'\n",
    "df = pd.read_excel(file_path, sheet_name='Sheet1')\n",
    "\n",
    "# Text cleaning function\n",
    "def clean_text(text):\n",
    "    text = re.sub(r'\\n', ' ', text)  # Remove newline characters\n",
    "    text = re.sub(r'\\r', ' ', text)  # Remove carriage return characters\n",
    "    text = re.sub(r'[^\\w\\s]', '', text)  # Remove punctuation\n",
    "    text = re.sub(r'\\d+', '', text)  # Remove digits\n",
    "    return text\n",
    "\n",
    "# Apply text cleaning\n",
    "df['Text'] = df['Text'].apply(clean_text)\n",
    "\n",
    "# Split the data into features and target variable\n",
    "X = df['Text']\n",
    "y = df['Tag']\n",
    "\n",
    "# Vectorize the text data\n",
    "vectorizer = TfidfVectorizer(max_features=5000)\n",
    "X_vect = vectorizer.fit_transform(X)\n",
    "\n",
    "# Apply SMOTE to balance the dataset\n",
    "smote = SMOTE(random_state=42)\n",
    "X_balanced, y_balanced = smote.fit_resample(X_vect, y)\n",
    "\n",
    "# Convert the balanced data back to a DataFrame\n",
    "X_balanced_df = pd.DataFrame(X_balanced.toarray(), columns=vectorizer.get_feature_names_out())\n",
    "y_balanced_df = pd.DataFrame(y_balanced, columns=['Tag'])\n",
    "balanced_df = pd.concat([y_balanced_df, X_balanced_df], axis=1)\n",
    "\n",
    "# Save the balanced dataset to an Excel file\n",
    "output_file_path = '/content/balanced_dataset.xlsx'\n",
    "balanced_df.to_excel(output_file_path, index=False)\n",
    "\n",
    "output_file_path\n"
   ]
  }
 ],
 "metadata": {
  "language_info": {
   "name": "python"
  }
 },
 "nbformat": 4,
 "nbformat_minor": 2
}

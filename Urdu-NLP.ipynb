{
 "cells": [
  {
   "cell_type": "code",
   "execution_count": null,
   "metadata": {
    "id": "CDhhNTbXnO1m"
   },
   "outputs": [],
   "source": [
    "import pandas as pd\n",
    "import re\n",
    "\n",
    "# Function to extract words from a string\n",
    "def extract_words(text):\n",
    "    # Regular expression to match Urdu words\n",
    "    urdu_words = re.findall(r'\\b[\\u0600-\\u06FF]+\\b', str(text))\n",
    "    return urdu_words\n",
    "\n",
    "# Load the datasets\n",
    "file1_path = '/content/combined.xlsx'\n",
    "file2_path = '/content/preprocessed_combined_file.xlsx'\n",
    "\n",
    "df1 = pd.read_excel(file1_path)\n",
    "df2 = pd.read_excel(file2_path)\n",
    "\n",
    "# Extract all words from all columns in both datasets\n",
    "all_words = []\n",
    "\n",
    "for df in [df1, df2]:\n",
    "    for column in df.columns:\n",
    "        df[column].dropna().apply(lambda x: all_words.extend(extract_words(x)))\n",
    "\n",
    "# Remove duplicates and sort the words alphabetically\n",
    "unique_words = sorted(set(all_words))\n",
    "\n",
    "# Create a new DataFrame for the output\n",
    "output_df = pd.DataFrame(unique_words, columns=['Unique Words'])\n",
    "\n",
    "# Save the output to a new XLSX file\n",
    "output_file_path = 'dictionary.xlsx'\n",
    "output_df.to_excel(output_file_path, index=False)\n",
    "\n",
    "print(f\"Unique Urdu words have been extracted and saved to {output_file_path}\")\n"
   ]
  }
 ],
 "metadata": {
  "colab": {
   "authorship_tag": "ABX9TyOLObRzSvCkWzDoUJS5ZDnr",
   "provenance": []
  },
  "kernelspec": {
   "display_name": "Python 3",
   "name": "python3"
  },
  "language_info": {
   "name": "python"
  }
 },
 "nbformat": 4,
 "nbformat_minor": 0
}
